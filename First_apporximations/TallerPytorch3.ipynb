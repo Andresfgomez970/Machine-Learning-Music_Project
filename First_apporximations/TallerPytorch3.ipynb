{
  "nbformat": 4,
  "nbformat_minor": 0,
  "metadata": {
    "colab": {
      "name": "TallerPytorch3.ipynb",
      "provenance": [],
      "collapsed_sections": []
    },
    "kernelspec": {
      "name": "python3",
      "display_name": "Python 3"
    },
    "accelerator": "GPU"
  },
  "cells": [
    {
      "cell_type": "code",
      "metadata": {
        "id": "hcs5jz9RtleV",
        "colab_type": "code",
        "colab": {}
      },
      "source": [
        "import torch\n",
        "import torchvision\n",
        "import numpy as np\n",
        "import torch.nn as nn\n",
        "from torch import optim\n",
        "import matplotlib.pyplot as plt\n",
        "import torch.nn.functional as F\n",
        "import torchvision.transforms as transforms"
      ],
      "execution_count": 0,
      "outputs": []
    },
    {
      "cell_type": "code",
      "metadata": {
        "id": "ZkyPHFKf6Rdw",
        "colab_type": "code",
        "colab": {}
      },
      "source": [
        "n_in=3\n",
        "n_out=5\n",
        "n_step=2\n",
        "b_size=4"
      ],
      "execution_count": 0,
      "outputs": []
    },
    {
      "cell_type": "code",
      "metadata": {
        "id": "64ugWda51F8q",
        "colab_type": "code",
        "outputId": "611da697-5c95-4099-a66a-1dae93fde946",
        "colab": {
          "base_uri": "https://localhost:8080/",
          "height": 35
        }
      },
      "source": [
        "rnn = nn.RNNCell(n_in, n_out) # n_input, n_neuronas\n",
        "X_batch = torch.tensor([[[0,1,2], [3,4,5], #t=0\n",
        "                         [6,7,8], [9,0,1]], \n",
        "                        [[9,8,7], [0,0,0], #t=1\n",
        "                         [6,5,4], [3,2,1]] \n",
        "                       ], dtype = torch.float)\n",
        "X_batch.shape"
      ],
      "execution_count": 0,
      "outputs": [
        {
          "output_type": "execute_result",
          "data": {
            "text/plain": [
              "torch.Size([2, 4, 3])"
            ]
          },
          "metadata": {
            "tags": []
          },
          "execution_count": 25
        }
      ]
    },
    {
      "cell_type": "code",
      "metadata": {
        "id": "lvx-Ebon3epR",
        "colab_type": "code",
        "outputId": "94da1314-1a96-428d-c648-c12f9dd142cf",
        "colab": {
          "base_uri": "https://localhost:8080/",
          "height": 35
        }
      },
      "source": [
        "hx0 = torch.randn(b_size, n_out) #  N,n_neuronas\n",
        "hx=hx0\n",
        "output = []\n",
        "for i in range(n_step):\n",
        "    hx = rnn(X_batch[i], hx)\n",
        "    output.append(hx)\n",
        "output[0].shape,output[1].shape"
      ],
      "execution_count": 0,
      "outputs": [
        {
          "output_type": "execute_result",
          "data": {
            "text/plain": [
              "(torch.Size([4, 5]), torch.Size([4, 5]))"
            ]
          },
          "metadata": {
            "tags": []
          },
          "execution_count": 27
        }
      ]
    },
    {
      "cell_type": "markdown",
      "metadata": {
        "id": "fjwdCyHq6TGS",
        "colab_type": "text"
      },
      "source": [
        "# MNIST"
      ]
    },
    {
      "cell_type": "code",
      "metadata": {
        "id": "Zhhqw1FK9qbh",
        "colab_type": "code",
        "colab": {}
      },
      "source": [
        "n_steps = 28\n",
        "n_in = 28\n",
        "n_neuronas = 150\n",
        "n_out = 10\n",
        "b_size=32\n",
        "n_capas=1"
      ],
      "execution_count": 0,
      "outputs": []
    },
    {
      "cell_type": "code",
      "metadata": {
        "id": "ZdbJwmg56MbH",
        "colab_type": "code",
        "colab": {}
      },
      "source": [
        "transform = transforms.Compose([transforms.ToTensor()])\n",
        "trainset = torchvision.datasets.MNIST(root='./data', train=True, download=True, transform=transform)\n",
        "trainloader = torch.utils.data.DataLoader(trainset, batch_size=b_size, shuffle=True, num_workers=2)\n",
        "testset = torchvision.datasets.MNIST(root='./data', train=False, download=True, transform=transform)\n",
        "testloader = torch.utils.data.DataLoader(testset, batch_size=b_size, shuffle=False, num_workers=2)"
      ],
      "execution_count": 0,
      "outputs": []
    },
    {
      "cell_type": "code",
      "metadata": {
        "id": "bcesLdWr7CUW",
        "colab_type": "code",
        "outputId": "80bc8df8-6219-4ab6-9bc2-33cc2bfdb3f8",
        "colab": {
          "base_uri": "https://localhost:8080/",
          "height": 90
        }
      },
      "source": [
        "class ImageRNN(nn.Module):\n",
        "    def __init__(self, batch_size, n_steps, n_inputs, n_neurons, n_outputs,n_capas=1):\n",
        "        super(ImageRNN, self).__init__()\n",
        "        #self.rnn = nn.RNN(n_in, n_neuronas,n_capas)\n",
        "        #self.rnn = nn.LSTM(n_in, n_neuronas,n_capas)\n",
        "        self.rnn = nn.GRU(n_in, n_neuronas,n_capas)\n",
        "        self.FC = nn.Linear(n_neuronas, n_out)\n",
        "    def init_hidden(self, batch):\n",
        "        # n_capas, b_size, n_neuronas\n",
        "        return (torch.zeros(n_capas, batch, n_neuronas).cuda())\n",
        "    def forward(self, X):\n",
        "        # n_steps, b_size X n_in\n",
        "        X = X.permute(1, 0, 2) \n",
        "        self.hidden = self.init_hidden(X.shape[1])\n",
        "        #self.state = self.init_hidden(X.shape[1]) #Para LSTM\n",
        "        out, self.hidden = self.rnn(X, self.hidden)\n",
        "        #out, (self.hidden, self.state) = self.rnn(X, (self.hidden, self.state)) #Para LSTM\n",
        "        out = self.FC(self.hidden[-1])\n",
        "        return out.view(-1, n_out) # b_size, n_output\n",
        "net = ImageRNN(b_size, n_steps,n_in,n_neuronas,n_out,n_capas)\n",
        "net.cuda()"
      ],
      "execution_count": 0,
      "outputs": [
        {
          "output_type": "execute_result",
          "data": {
            "text/plain": [
              "ImageRNN(\n",
              "  (rnn): GRU(28, 150)\n",
              "  (FC): Linear(in_features=150, out_features=10, bias=True)\n",
              ")"
            ]
          },
          "metadata": {
            "tags": []
          },
          "execution_count": 106
        }
      ]
    },
    {
      "cell_type": "code",
      "metadata": {
        "id": "yXqPtayz7mrt",
        "colab_type": "code",
        "colab": {}
      },
      "source": [
        "criterion = nn.CrossEntropyLoss()\n",
        "optimizer = optim.Adam(net.parameters())"
      ],
      "execution_count": 0,
      "outputs": []
    },
    {
      "cell_type": "code",
      "metadata": {
        "colab_type": "code",
        "outputId": "b743c346-848f-4788-8efc-b746323f9678",
        "id": "0YaV-_JjkSc_",
        "colab": {
          "base_uri": "https://localhost:8080/",
          "height": 1000
        }
      },
      "source": [
        "for epoch in range(10):\n",
        "    running_loss = 0.0\n",
        "    for i, data in enumerate(trainloader,0): #Ciclo por Batch\n",
        "        inputs, labels = data\n",
        "        inputs=inputs.view(-1,28,28)\n",
        "        inputs=inputs.cuda()\n",
        "        labels=labels.cuda()\n",
        "\n",
        "        optimizer.zero_grad()\n",
        "        outputs = net(inputs) #Forward\n",
        "        loss = criterion(outputs, labels) #Loss\n",
        "        loss.backward() #Backwards\n",
        "        optimizer.step() #Optim\n",
        "\n",
        "        running_loss += loss.item()\n",
        "        if i % 100 == 99:   \n",
        "            print('[%d, %5d] loss: %.3f' %\n",
        "                  (epoch + 1, i + 1, running_loss / 2000))\n",
        "            running_loss = 0.0\n",
        "print('Finished Training')"
      ],
      "execution_count": 0,
      "outputs": [
        {
          "output_type": "stream",
          "text": [
            "[1,   100] loss: 0.087\n",
            "[1,   200] loss: 0.046\n",
            "[1,   300] loss: 0.038\n",
            "[1,   400] loss: 0.035\n",
            "[1,   500] loss: 0.029\n",
            "[1,   600] loss: 0.024\n",
            "[1,   700] loss: 0.020\n",
            "[1,   800] loss: 0.019\n",
            "[1,   900] loss: 0.017\n",
            "[1,  1000] loss: 0.014\n",
            "[1,  1100] loss: 0.012\n",
            "[1,  1200] loss: 0.012\n",
            "[1,  1300] loss: 0.012\n",
            "[1,  1400] loss: 0.010\n",
            "[1,  1500] loss: 0.010\n",
            "[1,  1600] loss: 0.010\n",
            "[1,  1700] loss: 0.009\n",
            "[1,  1800] loss: 0.008\n",
            "[2,   100] loss: 0.007\n",
            "[2,   200] loss: 0.008\n",
            "[2,   300] loss: 0.006\n",
            "[2,   400] loss: 0.007\n",
            "[2,   500] loss: 0.007\n",
            "[2,   600] loss: 0.006\n",
            "[2,   700] loss: 0.006\n",
            "[2,   800] loss: 0.005\n",
            "[2,   900] loss: 0.006\n",
            "[2,  1000] loss: 0.005\n",
            "[2,  1100] loss: 0.006\n",
            "[2,  1200] loss: 0.005\n",
            "[2,  1300] loss: 0.005\n",
            "[2,  1400] loss: 0.005\n",
            "[2,  1500] loss: 0.005\n",
            "[2,  1600] loss: 0.005\n",
            "[2,  1700] loss: 0.005\n",
            "[2,  1800] loss: 0.005\n",
            "[3,   100] loss: 0.004\n",
            "[3,   200] loss: 0.004\n",
            "[3,   300] loss: 0.004\n",
            "[3,   400] loss: 0.005\n",
            "[3,   500] loss: 0.003\n",
            "[3,   600] loss: 0.003\n",
            "[3,   700] loss: 0.003\n",
            "[3,   800] loss: 0.004\n",
            "[3,   900] loss: 0.003\n",
            "[3,  1000] loss: 0.004\n",
            "[3,  1100] loss: 0.003\n",
            "[3,  1200] loss: 0.003\n",
            "[3,  1300] loss: 0.004\n",
            "[3,  1400] loss: 0.004\n",
            "[3,  1500] loss: 0.004\n",
            "[3,  1600] loss: 0.004\n",
            "[3,  1700] loss: 0.003\n",
            "[3,  1800] loss: 0.003\n",
            "[4,   100] loss: 0.003\n",
            "[4,   200] loss: 0.003\n",
            "[4,   300] loss: 0.003\n",
            "[4,   400] loss: 0.003\n",
            "[4,   500] loss: 0.003\n",
            "[4,   600] loss: 0.003\n",
            "[4,   700] loss: 0.002\n",
            "[4,   800] loss: 0.004\n",
            "[4,   900] loss: 0.003\n",
            "[4,  1000] loss: 0.003\n",
            "[4,  1100] loss: 0.003\n",
            "[4,  1200] loss: 0.003\n",
            "[4,  1300] loss: 0.002\n",
            "[4,  1400] loss: 0.002\n",
            "[4,  1500] loss: 0.003\n",
            "[4,  1600] loss: 0.003\n",
            "[4,  1700] loss: 0.003\n",
            "[4,  1800] loss: 0.002\n",
            "[5,   100] loss: 0.002\n",
            "[5,   200] loss: 0.002\n",
            "[5,   300] loss: 0.003\n",
            "[5,   400] loss: 0.002\n",
            "[5,   500] loss: 0.002\n",
            "[5,   600] loss: 0.003\n",
            "[5,   700] loss: 0.002\n",
            "[5,   800] loss: 0.002\n",
            "[5,   900] loss: 0.003\n",
            "[5,  1000] loss: 0.002\n",
            "[5,  1100] loss: 0.003\n",
            "[5,  1200] loss: 0.002\n",
            "[5,  1300] loss: 0.003\n",
            "[5,  1400] loss: 0.002\n",
            "[5,  1500] loss: 0.002\n",
            "[5,  1600] loss: 0.002\n",
            "[5,  1700] loss: 0.002\n",
            "[5,  1800] loss: 0.002\n",
            "[6,   100] loss: 0.002\n",
            "[6,   200] loss: 0.001\n",
            "[6,   300] loss: 0.002\n",
            "[6,   400] loss: 0.002\n",
            "[6,   500] loss: 0.002\n",
            "[6,   600] loss: 0.002\n",
            "[6,   700] loss: 0.002\n",
            "[6,   800] loss: 0.002\n",
            "[6,   900] loss: 0.002\n",
            "[6,  1000] loss: 0.002\n",
            "[6,  1100] loss: 0.002\n",
            "[6,  1200] loss: 0.002\n",
            "[6,  1300] loss: 0.002\n",
            "[6,  1400] loss: 0.002\n",
            "[6,  1500] loss: 0.002\n",
            "[6,  1600] loss: 0.002\n",
            "[6,  1700] loss: 0.002\n",
            "[6,  1800] loss: 0.001\n",
            "[7,   100] loss: 0.001\n",
            "[7,   200] loss: 0.001\n",
            "[7,   300] loss: 0.002\n",
            "[7,   400] loss: 0.002\n",
            "[7,   500] loss: 0.002\n",
            "[7,   600] loss: 0.001\n",
            "[7,   700] loss: 0.002\n",
            "[7,   800] loss: 0.002\n",
            "[7,   900] loss: 0.002\n",
            "[7,  1000] loss: 0.002\n",
            "[7,  1100] loss: 0.002\n",
            "[7,  1200] loss: 0.001\n",
            "[7,  1300] loss: 0.001\n",
            "[7,  1400] loss: 0.001\n",
            "[7,  1500] loss: 0.002\n",
            "[7,  1600] loss: 0.002\n",
            "[7,  1700] loss: 0.002\n",
            "[7,  1800] loss: 0.001\n",
            "[8,   100] loss: 0.001\n",
            "[8,   200] loss: 0.001\n",
            "[8,   300] loss: 0.001\n",
            "[8,   400] loss: 0.001\n",
            "[8,   500] loss: 0.002\n",
            "[8,   600] loss: 0.001\n",
            "[8,   700] loss: 0.001\n",
            "[8,   800] loss: 0.001\n",
            "[8,   900] loss: 0.001\n",
            "[8,  1000] loss: 0.001\n",
            "[8,  1100] loss: 0.001\n",
            "[8,  1200] loss: 0.001\n",
            "[8,  1300] loss: 0.001\n",
            "[8,  1400] loss: 0.002\n",
            "[8,  1500] loss: 0.002\n",
            "[8,  1600] loss: 0.001\n",
            "[8,  1700] loss: 0.001\n",
            "[8,  1800] loss: 0.002\n",
            "[9,   100] loss: 0.002\n",
            "[9,   200] loss: 0.001\n",
            "[9,   300] loss: 0.001\n",
            "[9,   400] loss: 0.002\n",
            "[9,   500] loss: 0.001\n",
            "[9,   600] loss: 0.001\n",
            "[9,   700] loss: 0.001\n",
            "[9,   800] loss: 0.001\n",
            "[9,   900] loss: 0.001\n",
            "[9,  1000] loss: 0.001\n",
            "[9,  1100] loss: 0.001\n",
            "[9,  1200] loss: 0.001\n",
            "[9,  1300] loss: 0.001\n",
            "[9,  1400] loss: 0.001\n",
            "[9,  1500] loss: 0.001\n",
            "[9,  1600] loss: 0.001\n",
            "[9,  1700] loss: 0.001\n",
            "[9,  1800] loss: 0.002\n",
            "[10,   100] loss: 0.001\n",
            "[10,   200] loss: 0.001\n",
            "[10,   300] loss: 0.001\n",
            "[10,   400] loss: 0.001\n",
            "[10,   500] loss: 0.002\n",
            "[10,   600] loss: 0.002\n",
            "[10,   700] loss: 0.001\n",
            "[10,   800] loss: 0.001\n",
            "[10,   900] loss: 0.001\n",
            "[10,  1000] loss: 0.001\n",
            "[10,  1100] loss: 0.001\n",
            "[10,  1200] loss: 0.001\n",
            "[10,  1300] loss: 0.001\n",
            "[10,  1400] loss: 0.001\n",
            "[10,  1500] loss: 0.001\n",
            "[10,  1600] loss: 0.001\n",
            "[10,  1700] loss: 0.001\n",
            "[10,  1800] loss: 0.001\n",
            "Finished Training\n"
          ],
          "name": "stdout"
        }
      ]
    },
    {
      "cell_type": "code",
      "metadata": {
        "id": "7qvruKU659Pa",
        "colab_type": "code",
        "colab": {}
      },
      "source": [
        "correct = 0\n",
        "total = 0\n",
        "with torch.no_grad():\n",
        "    for data in testloader:\n",
        "        inputs, labels = data\n",
        "        inputs=inputs.view(-1,28,28)\n",
        "        inputs=inputs.cuda()\n",
        "        labels=labels.cuda()\n",
        "        outputs = net(inputs)\n",
        "        _, predicted = torch.max(outputs.data, 1)\n",
        "        total += labels.size(0)\n",
        "        correct += (predicted == labels).sum().item()"
      ],
      "execution_count": 0,
      "outputs": []
    },
    {
      "cell_type": "code",
      "metadata": {
        "id": "w9C4Q8luBFrQ",
        "colab_type": "code",
        "outputId": "2c40f03f-67be-4f62-aebf-a8b6905e9b8a",
        "colab": {
          "base_uri": "https://localhost:8080/",
          "height": 35
        }
      },
      "source": [
        "print('Accuracy of the network on the 10000 test images: {} %%'.format(100 * correct / total))"
      ],
      "execution_count": 0,
      "outputs": [
        {
          "output_type": "stream",
          "text": [
            "Accuracy of the network on the 10000 test images: 98.61 %%\n"
          ],
          "name": "stdout"
        }
      ]
    },
    {
      "cell_type": "code",
      "metadata": {
        "id": "LhQRYsXWEI9d",
        "colab_type": "code",
        "colab": {}
      },
      "source": [
        ""
      ],
      "execution_count": 0,
      "outputs": []
    }
  ]
}